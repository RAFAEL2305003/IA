{
  "cells": [
    {
      "cell_type": "markdown",
      "metadata": {
        "id": "qm5lmIq9Xe-a"
      },
      "source": [
        "**Regras de associação**\n",
        "\n",
        "**Algoritmo Apriori**\n",
        "\n",
        "**Veja: https://www.youtube.com/watch?v=0v6PiOpsJi8** "
      ]
    },
    {
      "cell_type": "code",
      "execution_count": 69,
      "metadata": {
        "colab": {
          "base_uri": "https://localhost:8080/"
        },
        "id": "2bZM-_AsBVca",
        "outputId": "22733a89-43fb-4ece-cc20-f21516a6c881"
      },
      "outputs": [
        {
          "name": "stdout",
          "output_type": "stream",
          "text": [
            "Requirement already satisfied: apyori in ./lib/python3.11/site-packages (1.1.2)\n",
            "Note: you may need to restart the kernel to use updated packages.\n"
          ]
        }
      ],
      "source": [
        "%pip install apyori"
      ]
    },
    {
      "cell_type": "code",
      "execution_count": 70,
      "metadata": {
        "id": "m3d_ivF4Bcn5"
      },
      "outputs": [],
      "source": [
        "import pandas as pd\n",
        "from apyori import apriori"
      ]
    },
    {
      "cell_type": "code",
      "execution_count": 71,
      "metadata": {
        "colab": {
          "base_uri": "https://localhost:8080/",
          "height": 449
        },
        "id": "fGx34zCzBkw1",
        "outputId": "d719f509-7f66-424f-b88d-d1dddfc37b41"
      },
      "outputs": [
        {
          "data": {
            "text/html": [
              "<div>\n",
              "<style scoped>\n",
              "    .dataframe tbody tr th:only-of-type {\n",
              "        vertical-align: middle;\n",
              "    }\n",
              "\n",
              "    .dataframe tbody tr th {\n",
              "        vertical-align: top;\n",
              "    }\n",
              "\n",
              "    .dataframe thead th {\n",
              "        text-align: right;\n",
              "    }\n",
              "</style>\n",
              "<table border=\"1\" class=\"dataframe\">\n",
              "  <thead>\n",
              "    <tr style=\"text-align: right;\">\n",
              "      <th></th>\n",
              "      <th>0</th>\n",
              "      <th>1</th>\n",
              "      <th>2</th>\n",
              "      <th>3</th>\n",
              "      <th>4</th>\n",
              "      <th>5</th>\n",
              "      <th>6</th>\n",
              "    </tr>\n",
              "  </thead>\n",
              "  <tbody>\n",
              "    <tr>\n",
              "      <th>0</th>\n",
              "      <td>Leite</td>\n",
              "      <td>Cafe</td>\n",
              "      <td>Cerveja</td>\n",
              "      <td>Pao</td>\n",
              "      <td>Manteiga</td>\n",
              "      <td>Arroz</td>\n",
              "      <td>Feijao</td>\n",
              "    </tr>\n",
              "    <tr>\n",
              "      <th>1</th>\n",
              "      <td>NaN</td>\n",
              "      <td>Cafe</td>\n",
              "      <td>NaN</td>\n",
              "      <td>Pao</td>\n",
              "      <td>Manteiga</td>\n",
              "      <td>NaN</td>\n",
              "      <td>NaN</td>\n",
              "    </tr>\n",
              "    <tr>\n",
              "      <th>2</th>\n",
              "      <td>Leite</td>\n",
              "      <td>NaN</td>\n",
              "      <td>Cerveja</td>\n",
              "      <td>Pao</td>\n",
              "      <td>Manteiga</td>\n",
              "      <td>NaN</td>\n",
              "      <td>NaN</td>\n",
              "    </tr>\n",
              "    <tr>\n",
              "      <th>3</th>\n",
              "      <td>NaN</td>\n",
              "      <td>Cafe</td>\n",
              "      <td>NaN</td>\n",
              "      <td>Pao</td>\n",
              "      <td>Manteiga</td>\n",
              "      <td>NaN</td>\n",
              "      <td>NaN</td>\n",
              "    </tr>\n",
              "    <tr>\n",
              "      <th>4</th>\n",
              "      <td>Leite</td>\n",
              "      <td>Cafe</td>\n",
              "      <td>NaN</td>\n",
              "      <td>Pao</td>\n",
              "      <td>Manteiga</td>\n",
              "      <td>NaN</td>\n",
              "      <td>NaN</td>\n",
              "    </tr>\n",
              "    <tr>\n",
              "      <th>5</th>\n",
              "      <td>NaN</td>\n",
              "      <td>NaN</td>\n",
              "      <td>Cerveja</td>\n",
              "      <td>NaN</td>\n",
              "      <td>NaN</td>\n",
              "      <td>NaN</td>\n",
              "      <td>NaN</td>\n",
              "    </tr>\n",
              "    <tr>\n",
              "      <th>6</th>\n",
              "      <td>NaN</td>\n",
              "      <td>NaN</td>\n",
              "      <td>NaN</td>\n",
              "      <td>NaN</td>\n",
              "      <td>Manteiga</td>\n",
              "      <td>NaN</td>\n",
              "      <td>NaN</td>\n",
              "    </tr>\n",
              "    <tr>\n",
              "      <th>7</th>\n",
              "      <td>NaN</td>\n",
              "      <td>NaN</td>\n",
              "      <td>NaN</td>\n",
              "      <td>Pao</td>\n",
              "      <td>NaN</td>\n",
              "      <td>NaN</td>\n",
              "      <td>NaN</td>\n",
              "    </tr>\n",
              "    <tr>\n",
              "      <th>8</th>\n",
              "      <td>NaN</td>\n",
              "      <td>NaN</td>\n",
              "      <td>NaN</td>\n",
              "      <td>NaN</td>\n",
              "      <td>NaN</td>\n",
              "      <td>NaN</td>\n",
              "      <td>Feijao</td>\n",
              "    </tr>\n",
              "    <tr>\n",
              "      <th>9</th>\n",
              "      <td>NaN</td>\n",
              "      <td>NaN</td>\n",
              "      <td>NaN</td>\n",
              "      <td>NaN</td>\n",
              "      <td>NaN</td>\n",
              "      <td>Arroz</td>\n",
              "      <td>Feijao</td>\n",
              "    </tr>\n",
              "    <tr>\n",
              "      <th>10</th>\n",
              "      <td>NaN</td>\n",
              "      <td>NaN</td>\n",
              "      <td>NaN</td>\n",
              "      <td>NaN</td>\n",
              "      <td>NaN</td>\n",
              "      <td>Arroz</td>\n",
              "      <td>NaN</td>\n",
              "    </tr>\n",
              "  </tbody>\n",
              "</table>\n",
              "</div>"
            ],
            "text/plain": [
              "        0     1        2    3         4      5       6\n",
              "0   Leite  Cafe  Cerveja  Pao  Manteiga  Arroz  Feijao\n",
              "1     NaN  Cafe      NaN  Pao  Manteiga    NaN     NaN\n",
              "2   Leite   NaN  Cerveja  Pao  Manteiga    NaN     NaN\n",
              "3     NaN  Cafe      NaN  Pao  Manteiga    NaN     NaN\n",
              "4   Leite  Cafe      NaN  Pao  Manteiga    NaN     NaN\n",
              "5     NaN   NaN  Cerveja  NaN       NaN    NaN     NaN\n",
              "6     NaN   NaN      NaN  NaN  Manteiga    NaN     NaN\n",
              "7     NaN   NaN      NaN  Pao       NaN    NaN     NaN\n",
              "8     NaN   NaN      NaN  NaN       NaN    NaN  Feijao\n",
              "9     NaN   NaN      NaN  NaN       NaN  Arroz  Feijao\n",
              "10    NaN   NaN      NaN  NaN       NaN  Arroz     NaN"
            ]
          },
          "execution_count": 71,
          "metadata": {},
          "output_type": "execute_result"
        }
      ],
      "source": [
        "\n",
        "base = pd.read_csv('/home/rafael/Documentos/Faculdade/Quarto_Periodo/IA/Bases/Mercado.csv', encoding='cp1252', header=None)\n",
        "base"
      ]
    },
    {
      "cell_type": "code",
      "execution_count": 72,
      "metadata": {
        "colab": {
          "base_uri": "https://localhost:8080/"
        },
        "id": "bqUKr_T8PXYn",
        "outputId": "68304296-8afa-4e2b-d8de-6f36dcdcf343"
      },
      "outputs": [
        {
          "data": {
            "text/plain": [
              "(11, 7)"
            ]
          },
          "execution_count": 72,
          "metadata": {},
          "output_type": "execute_result"
        }
      ],
      "source": [
        "base.shape"
      ]
    },
    {
      "cell_type": "markdown",
      "metadata": {
        "id": "qMSzc0sIOd2S"
      },
      "source": [
        "**O código a seguir altera a base de dados para colocar as ausências dos produtos**"
      ]
    },
    {
      "cell_type": "code",
      "execution_count": 73,
      "metadata": {
        "id": "19-9OGl8N84K"
      },
      "outputs": [],
      "source": [
        "#for column in base:\n",
        "#     base[column]=base[column].fillna('~' + column)"
      ]
    },
    {
      "cell_type": "code",
      "execution_count": 74,
      "metadata": {
        "id": "EzgU0z9lPb7e"
      },
      "outputs": [],
      "source": [
        "#base"
      ]
    },
    {
      "cell_type": "code",
      "execution_count": 75,
      "metadata": {
        "id": "oIBsczbGCxWf"
      },
      "outputs": [],
      "source": [
        "#base.shape"
      ]
    },
    {
      "cell_type": "markdown",
      "metadata": {
        "id": "cQyNolxV37tx"
      },
      "source": [
        "**Como estaremos treinando um modelo a priori, que recebe entradas em formato de lista, precisamos transformar o dataframe em uma lista de transações.**"
      ]
    },
    {
      "cell_type": "code",
      "execution_count": 76,
      "metadata": {
        "id": "ZF8i0EdWCMjY"
      },
      "outputs": [],
      "source": [
        "transacoes = []\n",
        "for i in range(1, len(base)):\n",
        "  #print(i)\n",
        "  #print(base_mercado1.values[i, 0])\n",
        "  transacoes.append([str(base.values[i, j]) for j in range(base.shape[1])])"
      ]
    },
    {
      "cell_type": "code",
      "execution_count": 77,
      "metadata": {
        "colab": {
          "base_uri": "https://localhost:8080/"
        },
        "id": "XH2CNc6VC3e3",
        "outputId": "1f2140b6-70de-44e5-f984-a5d3618aa65b"
      },
      "outputs": [
        {
          "data": {
            "text/plain": [
              "[['nan', 'Cafe', 'nan', 'Pao', 'Manteiga', 'nan', 'nan'],\n",
              " ['Leite', 'nan', 'Cerveja', 'Pao', 'Manteiga', 'nan', 'nan'],\n",
              " ['nan', 'Cafe', 'nan', 'Pao', 'Manteiga', 'nan', 'nan'],\n",
              " ['Leite', 'Cafe', 'nan', 'Pao', 'Manteiga', 'nan', 'nan'],\n",
              " ['nan', 'nan', 'Cerveja', 'nan', 'nan', 'nan', 'nan'],\n",
              " ['nan', 'nan', 'nan', 'nan', 'Manteiga', 'nan', 'nan'],\n",
              " ['nan', 'nan', 'nan', 'Pao', 'nan', 'nan', 'nan'],\n",
              " ['nan', 'nan', 'nan', 'nan', 'nan', 'nan', 'Feijao'],\n",
              " ['nan', 'nan', 'nan', 'nan', 'nan', 'Arroz', 'Feijao'],\n",
              " ['nan', 'nan', 'nan', 'nan', 'nan', 'Arroz', 'nan']]"
            ]
          },
          "execution_count": 77,
          "metadata": {},
          "output_type": "execute_result"
        }
      ],
      "source": [
        "transacoes"
      ]
    },
    {
      "cell_type": "code",
      "execution_count": 78,
      "metadata": {
        "colab": {
          "base_uri": "https://localhost:8080/"
        },
        "id": "jF4Ec_ryDNfw",
        "outputId": "8edf4cb8-90f1-448a-fc4e-2a213ae0434d"
      },
      "outputs": [
        {
          "data": {
            "text/plain": [
              "list"
            ]
          },
          "execution_count": 78,
          "metadata": {},
          "output_type": "execute_result"
        }
      ],
      "source": [
        "type(transacoes)"
      ]
    },
    {
      "cell_type": "markdown",
      "metadata": {
        "id": "ggzA0uJg_3Ns"
      },
      "source": [
        "**Vamos chamar executar o algoritmo apriori e armazenar as regras obtidas**"
      ]
    },
    {
      "cell_type": "code",
      "execution_count": 79,
      "metadata": {
        "colab": {
          "base_uri": "https://localhost:8080/"
        },
        "id": "DuX5YuabzqfQ",
        "outputId": "759da255-e827-43c6-828c-20255075316b"
      },
      "outputs": [
        {
          "name": "stdout",
          "output_type": "stream",
          "text": [
            "12\n",
            "[RelationRecord(items=frozenset({'nan'}), support=1.0, ordered_statistics=[OrderedStatistic(items_base=frozenset(), items_add=frozenset({'nan'}), confidence=1.0, lift=1.0)]), RelationRecord(items=frozenset({'Cafe', 'Manteiga'}), support=0.3, ordered_statistics=[OrderedStatistic(items_base=frozenset({'Cafe'}), items_add=frozenset({'Manteiga'}), confidence=1.0, lift=2.0)]), RelationRecord(items=frozenset({'Cafe', 'Pao'}), support=0.3, ordered_statistics=[OrderedStatistic(items_base=frozenset({'Cafe'}), items_add=frozenset({'Pao'}), confidence=1.0, lift=2.0)]), RelationRecord(items=frozenset({'Cafe', 'nan'}), support=0.3, ordered_statistics=[OrderedStatistic(items_base=frozenset({'Cafe'}), items_add=frozenset({'nan'}), confidence=1.0, lift=1.0)]), RelationRecord(items=frozenset({'Manteiga', 'Pao'}), support=0.4, ordered_statistics=[OrderedStatistic(items_base=frozenset({'Manteiga'}), items_add=frozenset({'Pao'}), confidence=0.8, lift=1.6), OrderedStatistic(items_base=frozenset({'Pao'}), items_add=frozenset({'Manteiga'}), confidence=0.8, lift=1.6)]), RelationRecord(items=frozenset({'Manteiga', 'nan'}), support=0.5, ordered_statistics=[OrderedStatistic(items_base=frozenset({'Manteiga'}), items_add=frozenset({'nan'}), confidence=1.0, lift=1.0)]), RelationRecord(items=frozenset({'nan', 'Pao'}), support=0.5, ordered_statistics=[OrderedStatistic(items_base=frozenset({'Pao'}), items_add=frozenset({'nan'}), confidence=1.0, lift=1.0)]), RelationRecord(items=frozenset({'Cafe', 'Pao', 'Manteiga'}), support=0.3, ordered_statistics=[OrderedStatistic(items_base=frozenset({'Cafe'}), items_add=frozenset({'Manteiga', 'Pao'}), confidence=1.0, lift=2.5), OrderedStatistic(items_base=frozenset({'Cafe', 'Manteiga'}), items_add=frozenset({'Pao'}), confidence=1.0, lift=2.0), OrderedStatistic(items_base=frozenset({'Cafe', 'Pao'}), items_add=frozenset({'Manteiga'}), confidence=1.0, lift=2.0)]), RelationRecord(items=frozenset({'Cafe', 'nan', 'Manteiga'}), support=0.3, ordered_statistics=[OrderedStatistic(items_base=frozenset({'Cafe'}), items_add=frozenset({'Manteiga', 'nan'}), confidence=1.0, lift=2.0), OrderedStatistic(items_base=frozenset({'Cafe', 'Manteiga'}), items_add=frozenset({'nan'}), confidence=1.0, lift=1.0), OrderedStatistic(items_base=frozenset({'Cafe', 'nan'}), items_add=frozenset({'Manteiga'}), confidence=1.0, lift=2.0)]), RelationRecord(items=frozenset({'Cafe', 'nan', 'Pao'}), support=0.3, ordered_statistics=[OrderedStatistic(items_base=frozenset({'Cafe'}), items_add=frozenset({'nan', 'Pao'}), confidence=1.0, lift=2.0), OrderedStatistic(items_base=frozenset({'Cafe', 'Pao'}), items_add=frozenset({'nan'}), confidence=1.0, lift=1.0), OrderedStatistic(items_base=frozenset({'Cafe', 'nan'}), items_add=frozenset({'Pao'}), confidence=1.0, lift=2.0)]), RelationRecord(items=frozenset({'Manteiga', 'nan', 'Pao'}), support=0.4, ordered_statistics=[OrderedStatistic(items_base=frozenset({'Manteiga'}), items_add=frozenset({'nan', 'Pao'}), confidence=0.8, lift=1.6), OrderedStatistic(items_base=frozenset({'Pao'}), items_add=frozenset({'Manteiga', 'nan'}), confidence=0.8, lift=1.6), OrderedStatistic(items_base=frozenset({'Manteiga', 'Pao'}), items_add=frozenset({'nan'}), confidence=1.0, lift=1.0), OrderedStatistic(items_base=frozenset({'Manteiga', 'nan'}), items_add=frozenset({'Pao'}), confidence=0.8, lift=1.6), OrderedStatistic(items_base=frozenset({'nan', 'Pao'}), items_add=frozenset({'Manteiga'}), confidence=0.8, lift=1.6)]), RelationRecord(items=frozenset({'Cafe', 'nan', 'Pao', 'Manteiga'}), support=0.3, ordered_statistics=[OrderedStatistic(items_base=frozenset({'Cafe'}), items_add=frozenset({'Manteiga', 'nan', 'Pao'}), confidence=1.0, lift=2.5), OrderedStatistic(items_base=frozenset({'Cafe', 'Manteiga'}), items_add=frozenset({'nan', 'Pao'}), confidence=1.0, lift=2.0), OrderedStatistic(items_base=frozenset({'Cafe', 'Pao'}), items_add=frozenset({'Manteiga', 'nan'}), confidence=1.0, lift=2.0), OrderedStatistic(items_base=frozenset({'Cafe', 'nan'}), items_add=frozenset({'Manteiga', 'Pao'}), confidence=1.0, lift=2.5), OrderedStatistic(items_base=frozenset({'Cafe', 'Pao', 'Manteiga'}), items_add=frozenset({'nan'}), confidence=1.0, lift=1.0), OrderedStatistic(items_base=frozenset({'Cafe', 'nan', 'Manteiga'}), items_add=frozenset({'Pao'}), confidence=1.0, lift=2.0), OrderedStatistic(items_base=frozenset({'Cafe', 'nan', 'Pao'}), items_add=frozenset({'Manteiga'}), confidence=1.0, lift=2.0)])]\n"
          ]
        }
      ],
      "source": [
        "regras = apriori(transacoes, min_support = 0.3, min_confidence = 0.8)\n",
        "saida = list(regras) \n",
        "print(len(saida))\n",
        "print(saida)"
      ]
    },
    {
      "cell_type": "code",
      "execution_count": 80,
      "metadata": {
        "colab": {
          "base_uri": "https://localhost:8080/"
        },
        "id": "l4vMQUJfHu0e",
        "outputId": "9506e5dd-0644-4baa-9bd9-946a815b2d62"
      },
      "outputs": [
        {
          "name": "stdout",
          "output_type": "stream",
          "text": [
            "RelationRecord(items=frozenset({'nan'}), support=1.0, ordered_statistics=[OrderedStatistic(items_base=frozenset(), items_add=frozenset({'nan'}), confidence=1.0, lift=1.0)])\n"
          ]
        }
      ],
      "source": [
        "print(saida[0])"
      ]
    },
    {
      "cell_type": "code",
      "execution_count": 81,
      "metadata": {
        "colab": {
          "base_uri": "https://localhost:8080/"
        },
        "id": "M0hNno4uPcs9",
        "outputId": "f8ae8a58-6414-48c0-bade-7a03b4f3f97c"
      },
      "outputs": [
        {
          "name": "stdout",
          "output_type": "stream",
          "text": [
            "RelationRecord(items=frozenset({'Cafe', 'Manteiga'}), support=0.3, ordered_statistics=[OrderedStatistic(items_base=frozenset({'Cafe'}), items_add=frozenset({'Manteiga'}), confidence=1.0, lift=2.0)])\n"
          ]
        }
      ],
      "source": [
        "print(saida[1])"
      ]
    },
    {
      "cell_type": "code",
      "execution_count": 82,
      "metadata": {
        "colab": {
          "base_uri": "https://localhost:8080/"
        },
        "id": "0ZMoSVL_9aXP",
        "outputId": "43a09394-2792-4963-ed70-e0f1d3af4a17"
      },
      "outputs": [
        {
          "name": "stdout",
          "output_type": "stream",
          "text": [
            "RelationRecord(items=frozenset({'Cafe', 'Pao'}), support=0.3, ordered_statistics=[OrderedStatistic(items_base=frozenset({'Cafe'}), items_add=frozenset({'Pao'}), confidence=1.0, lift=2.0)])\n"
          ]
        }
      ],
      "source": [
        "print(saida[2])"
      ]
    },
    {
      "cell_type": "markdown",
      "metadata": {
        "id": "soknidg94a2y"
      },
      "source": [
        "**Para facilitar a visualização, veja como transformar isso em um dataframe** \n",
        "\n",
        "Extraído de:\n",
        "\n",
        "https://www.section.io/engineering-education/apriori-algorithm-in-python/\n",
        "\n",
        "https://splunktool.com/understanding-apyoris-output"
      ]
    },
    {
      "cell_type": "code",
      "execution_count": 83,
      "metadata": {
        "id": "UWDno2uo4aL0"
      },
      "outputs": [],
      "source": [
        "Antecedente = []\n",
        "Consequente = []\n",
        "suporte = []\n",
        "confianca = []\n",
        "lift = []\n",
        "\n",
        "for resultado in saida:\n",
        "  s = resultado[1]\n",
        "  result_rules = resultado[2]\n",
        "  for result_rule in result_rules:\n",
        "    a = list(result_rule[0])\n",
        "    b = list(result_rule[1])\n",
        "    c = result_rule[2]\n",
        "    l = result_rule[3]\n",
        "    if 'nan' in a or 'nan' in b: continue # Comentar essa linha caso queira ver as regras geradas para \"outros\" produtos\n",
        "    if len(a) == 0 or len(b) == 0: continue\n",
        "    Antecedente.append(a)\n",
        "    Consequente.append(b)\n",
        "    suporte.append(s)\n",
        "    confianca.append(c)\n",
        "    lift.append(l)\n",
        "    RegrasFinais = pd.DataFrame({'Antecedente': Antecedente, 'Consequente': Consequente, 'suporte': suporte, 'Confiança': confianca, 'Lift': lift})"
      ]
    },
    {
      "cell_type": "code",
      "execution_count": 84,
      "metadata": {
        "colab": {
          "base_uri": "https://localhost:8080/",
          "height": 112
        },
        "id": "QW7wcZbe431-",
        "outputId": "9a4ebee0-91b5-4add-e562-d3cab7939970"
      },
      "outputs": [
        {
          "data": {
            "text/html": [
              "<div>\n",
              "<style scoped>\n",
              "    .dataframe tbody tr th:only-of-type {\n",
              "        vertical-align: middle;\n",
              "    }\n",
              "\n",
              "    .dataframe tbody tr th {\n",
              "        vertical-align: top;\n",
              "    }\n",
              "\n",
              "    .dataframe thead th {\n",
              "        text-align: right;\n",
              "    }\n",
              "</style>\n",
              "<table border=\"1\" class=\"dataframe\">\n",
              "  <thead>\n",
              "    <tr style=\"text-align: right;\">\n",
              "      <th></th>\n",
              "      <th>Antecedente</th>\n",
              "      <th>Consequente</th>\n",
              "      <th>suporte</th>\n",
              "      <th>Confiança</th>\n",
              "      <th>Lift</th>\n",
              "    </tr>\n",
              "  </thead>\n",
              "  <tbody>\n",
              "    <tr>\n",
              "      <th>0</th>\n",
              "      <td>[Cafe]</td>\n",
              "      <td>[Manteiga]</td>\n",
              "      <td>0.3</td>\n",
              "      <td>1.0</td>\n",
              "      <td>2.0</td>\n",
              "    </tr>\n",
              "    <tr>\n",
              "      <th>1</th>\n",
              "      <td>[Cafe]</td>\n",
              "      <td>[Pao]</td>\n",
              "      <td>0.3</td>\n",
              "      <td>1.0</td>\n",
              "      <td>2.0</td>\n",
              "    </tr>\n",
              "    <tr>\n",
              "      <th>2</th>\n",
              "      <td>[Cafe]</td>\n",
              "      <td>[nan]</td>\n",
              "      <td>0.3</td>\n",
              "      <td>1.0</td>\n",
              "      <td>1.0</td>\n",
              "    </tr>\n",
              "    <tr>\n",
              "      <th>3</th>\n",
              "      <td>[Manteiga]</td>\n",
              "      <td>[Pao]</td>\n",
              "      <td>0.4</td>\n",
              "      <td>0.8</td>\n",
              "      <td>1.6</td>\n",
              "    </tr>\n",
              "    <tr>\n",
              "      <th>4</th>\n",
              "      <td>[Pao]</td>\n",
              "      <td>[Manteiga]</td>\n",
              "      <td>0.4</td>\n",
              "      <td>0.8</td>\n",
              "      <td>1.6</td>\n",
              "    </tr>\n",
              "    <tr>\n",
              "      <th>5</th>\n",
              "      <td>[Manteiga]</td>\n",
              "      <td>[nan]</td>\n",
              "      <td>0.5</td>\n",
              "      <td>1.0</td>\n",
              "      <td>1.0</td>\n",
              "    </tr>\n",
              "    <tr>\n",
              "      <th>6</th>\n",
              "      <td>[Pao]</td>\n",
              "      <td>[nan]</td>\n",
              "      <td>0.5</td>\n",
              "      <td>1.0</td>\n",
              "      <td>1.0</td>\n",
              "    </tr>\n",
              "    <tr>\n",
              "      <th>7</th>\n",
              "      <td>[Cafe]</td>\n",
              "      <td>[Manteiga, Pao]</td>\n",
              "      <td>0.3</td>\n",
              "      <td>1.0</td>\n",
              "      <td>2.5</td>\n",
              "    </tr>\n",
              "    <tr>\n",
              "      <th>8</th>\n",
              "      <td>[Cafe, Manteiga]</td>\n",
              "      <td>[Pao]</td>\n",
              "      <td>0.3</td>\n",
              "      <td>1.0</td>\n",
              "      <td>2.0</td>\n",
              "    </tr>\n",
              "    <tr>\n",
              "      <th>9</th>\n",
              "      <td>[Cafe, Pao]</td>\n",
              "      <td>[Manteiga]</td>\n",
              "      <td>0.3</td>\n",
              "      <td>1.0</td>\n",
              "      <td>2.0</td>\n",
              "    </tr>\n",
              "    <tr>\n",
              "      <th>10</th>\n",
              "      <td>[Cafe]</td>\n",
              "      <td>[Manteiga, nan]</td>\n",
              "      <td>0.3</td>\n",
              "      <td>1.0</td>\n",
              "      <td>2.0</td>\n",
              "    </tr>\n",
              "    <tr>\n",
              "      <th>11</th>\n",
              "      <td>[Cafe, Manteiga]</td>\n",
              "      <td>[nan]</td>\n",
              "      <td>0.3</td>\n",
              "      <td>1.0</td>\n",
              "      <td>1.0</td>\n",
              "    </tr>\n",
              "    <tr>\n",
              "      <th>12</th>\n",
              "      <td>[Cafe, nan]</td>\n",
              "      <td>[Manteiga]</td>\n",
              "      <td>0.3</td>\n",
              "      <td>1.0</td>\n",
              "      <td>2.0</td>\n",
              "    </tr>\n",
              "    <tr>\n",
              "      <th>13</th>\n",
              "      <td>[Cafe]</td>\n",
              "      <td>[nan, Pao]</td>\n",
              "      <td>0.3</td>\n",
              "      <td>1.0</td>\n",
              "      <td>2.0</td>\n",
              "    </tr>\n",
              "    <tr>\n",
              "      <th>14</th>\n",
              "      <td>[Cafe, Pao]</td>\n",
              "      <td>[nan]</td>\n",
              "      <td>0.3</td>\n",
              "      <td>1.0</td>\n",
              "      <td>1.0</td>\n",
              "    </tr>\n",
              "    <tr>\n",
              "      <th>15</th>\n",
              "      <td>[Cafe, nan]</td>\n",
              "      <td>[Pao]</td>\n",
              "      <td>0.3</td>\n",
              "      <td>1.0</td>\n",
              "      <td>2.0</td>\n",
              "    </tr>\n",
              "    <tr>\n",
              "      <th>16</th>\n",
              "      <td>[Manteiga]</td>\n",
              "      <td>[nan, Pao]</td>\n",
              "      <td>0.4</td>\n",
              "      <td>0.8</td>\n",
              "      <td>1.6</td>\n",
              "    </tr>\n",
              "    <tr>\n",
              "      <th>17</th>\n",
              "      <td>[Pao]</td>\n",
              "      <td>[Manteiga, nan]</td>\n",
              "      <td>0.4</td>\n",
              "      <td>0.8</td>\n",
              "      <td>1.6</td>\n",
              "    </tr>\n",
              "    <tr>\n",
              "      <th>18</th>\n",
              "      <td>[Manteiga, Pao]</td>\n",
              "      <td>[nan]</td>\n",
              "      <td>0.4</td>\n",
              "      <td>1.0</td>\n",
              "      <td>1.0</td>\n",
              "    </tr>\n",
              "    <tr>\n",
              "      <th>19</th>\n",
              "      <td>[Manteiga, nan]</td>\n",
              "      <td>[Pao]</td>\n",
              "      <td>0.4</td>\n",
              "      <td>0.8</td>\n",
              "      <td>1.6</td>\n",
              "    </tr>\n",
              "    <tr>\n",
              "      <th>20</th>\n",
              "      <td>[nan, Pao]</td>\n",
              "      <td>[Manteiga]</td>\n",
              "      <td>0.4</td>\n",
              "      <td>0.8</td>\n",
              "      <td>1.6</td>\n",
              "    </tr>\n",
              "    <tr>\n",
              "      <th>21</th>\n",
              "      <td>[Cafe]</td>\n",
              "      <td>[Manteiga, nan, Pao]</td>\n",
              "      <td>0.3</td>\n",
              "      <td>1.0</td>\n",
              "      <td>2.5</td>\n",
              "    </tr>\n",
              "    <tr>\n",
              "      <th>22</th>\n",
              "      <td>[Cafe, Manteiga]</td>\n",
              "      <td>[nan, Pao]</td>\n",
              "      <td>0.3</td>\n",
              "      <td>1.0</td>\n",
              "      <td>2.0</td>\n",
              "    </tr>\n",
              "    <tr>\n",
              "      <th>23</th>\n",
              "      <td>[Cafe, Pao]</td>\n",
              "      <td>[Manteiga, nan]</td>\n",
              "      <td>0.3</td>\n",
              "      <td>1.0</td>\n",
              "      <td>2.0</td>\n",
              "    </tr>\n",
              "    <tr>\n",
              "      <th>24</th>\n",
              "      <td>[Cafe, nan]</td>\n",
              "      <td>[Manteiga, Pao]</td>\n",
              "      <td>0.3</td>\n",
              "      <td>1.0</td>\n",
              "      <td>2.5</td>\n",
              "    </tr>\n",
              "    <tr>\n",
              "      <th>25</th>\n",
              "      <td>[Cafe, Pao, Manteiga]</td>\n",
              "      <td>[nan]</td>\n",
              "      <td>0.3</td>\n",
              "      <td>1.0</td>\n",
              "      <td>1.0</td>\n",
              "    </tr>\n",
              "    <tr>\n",
              "      <th>26</th>\n",
              "      <td>[Cafe, nan, Manteiga]</td>\n",
              "      <td>[Pao]</td>\n",
              "      <td>0.3</td>\n",
              "      <td>1.0</td>\n",
              "      <td>2.0</td>\n",
              "    </tr>\n",
              "    <tr>\n",
              "      <th>27</th>\n",
              "      <td>[Cafe, nan, Pao]</td>\n",
              "      <td>[Manteiga]</td>\n",
              "      <td>0.3</td>\n",
              "      <td>1.0</td>\n",
              "      <td>2.0</td>\n",
              "    </tr>\n",
              "  </tbody>\n",
              "</table>\n",
              "</div>"
            ],
            "text/plain": [
              "              Antecedente           Consequente  suporte  Confiança  Lift\n",
              "0                  [Cafe]            [Manteiga]      0.3        1.0   2.0\n",
              "1                  [Cafe]                 [Pao]      0.3        1.0   2.0\n",
              "2                  [Cafe]                 [nan]      0.3        1.0   1.0\n",
              "3              [Manteiga]                 [Pao]      0.4        0.8   1.6\n",
              "4                   [Pao]            [Manteiga]      0.4        0.8   1.6\n",
              "5              [Manteiga]                 [nan]      0.5        1.0   1.0\n",
              "6                   [Pao]                 [nan]      0.5        1.0   1.0\n",
              "7                  [Cafe]       [Manteiga, Pao]      0.3        1.0   2.5\n",
              "8        [Cafe, Manteiga]                 [Pao]      0.3        1.0   2.0\n",
              "9             [Cafe, Pao]            [Manteiga]      0.3        1.0   2.0\n",
              "10                 [Cafe]       [Manteiga, nan]      0.3        1.0   2.0\n",
              "11       [Cafe, Manteiga]                 [nan]      0.3        1.0   1.0\n",
              "12            [Cafe, nan]            [Manteiga]      0.3        1.0   2.0\n",
              "13                 [Cafe]            [nan, Pao]      0.3        1.0   2.0\n",
              "14            [Cafe, Pao]                 [nan]      0.3        1.0   1.0\n",
              "15            [Cafe, nan]                 [Pao]      0.3        1.0   2.0\n",
              "16             [Manteiga]            [nan, Pao]      0.4        0.8   1.6\n",
              "17                  [Pao]       [Manteiga, nan]      0.4        0.8   1.6\n",
              "18        [Manteiga, Pao]                 [nan]      0.4        1.0   1.0\n",
              "19        [Manteiga, nan]                 [Pao]      0.4        0.8   1.6\n",
              "20             [nan, Pao]            [Manteiga]      0.4        0.8   1.6\n",
              "21                 [Cafe]  [Manteiga, nan, Pao]      0.3        1.0   2.5\n",
              "22       [Cafe, Manteiga]            [nan, Pao]      0.3        1.0   2.0\n",
              "23            [Cafe, Pao]       [Manteiga, nan]      0.3        1.0   2.0\n",
              "24            [Cafe, nan]       [Manteiga, Pao]      0.3        1.0   2.5\n",
              "25  [Cafe, Pao, Manteiga]                 [nan]      0.3        1.0   1.0\n",
              "26  [Cafe, nan, Manteiga]                 [Pao]      0.3        1.0   2.0\n",
              "27       [Cafe, nan, Pao]            [Manteiga]      0.3        1.0   2.0"
            ]
          },
          "execution_count": 84,
          "metadata": {},
          "output_type": "execute_result"
        }
      ],
      "source": [
        "RegrasFinais"
      ]
    },
    {
      "cell_type": "markdown",
      "metadata": {
        "id": "DJUXykHjhbJ0"
      },
      "source": [
        "**Podemos ordenar estas regras por uma métrica desejada**"
      ]
    },
    {
      "cell_type": "code",
      "execution_count": 85,
      "metadata": {
        "colab": {
          "base_uri": "https://localhost:8080/",
          "height": 112
        },
        "id": "A7X_YwVHhaxf",
        "outputId": "27c00b86-4295-4b16-b49f-f3bbf3d34c9e"
      },
      "outputs": [
        {
          "data": {
            "text/html": [
              "<div>\n",
              "<style scoped>\n",
              "    .dataframe tbody tr th:only-of-type {\n",
              "        vertical-align: middle;\n",
              "    }\n",
              "\n",
              "    .dataframe tbody tr th {\n",
              "        vertical-align: top;\n",
              "    }\n",
              "\n",
              "    .dataframe thead th {\n",
              "        text-align: right;\n",
              "    }\n",
              "</style>\n",
              "<table border=\"1\" class=\"dataframe\">\n",
              "  <thead>\n",
              "    <tr style=\"text-align: right;\">\n",
              "      <th></th>\n",
              "      <th>Antecedente</th>\n",
              "      <th>Consequente</th>\n",
              "      <th>suporte</th>\n",
              "      <th>Confiança</th>\n",
              "      <th>Lift</th>\n",
              "    </tr>\n",
              "  </thead>\n",
              "  <tbody>\n",
              "    <tr>\n",
              "      <th>0</th>\n",
              "      <td>[Cafe]</td>\n",
              "      <td>[Manteiga]</td>\n",
              "      <td>0.3</td>\n",
              "      <td>1.0</td>\n",
              "      <td>2.0</td>\n",
              "    </tr>\n",
              "    <tr>\n",
              "      <th>25</th>\n",
              "      <td>[Cafe, Pao, Manteiga]</td>\n",
              "      <td>[nan]</td>\n",
              "      <td>0.3</td>\n",
              "      <td>1.0</td>\n",
              "      <td>1.0</td>\n",
              "    </tr>\n",
              "    <tr>\n",
              "      <th>24</th>\n",
              "      <td>[Cafe, nan]</td>\n",
              "      <td>[Manteiga, Pao]</td>\n",
              "      <td>0.3</td>\n",
              "      <td>1.0</td>\n",
              "      <td>2.5</td>\n",
              "    </tr>\n",
              "    <tr>\n",
              "      <th>23</th>\n",
              "      <td>[Cafe, Pao]</td>\n",
              "      <td>[Manteiga, nan]</td>\n",
              "      <td>0.3</td>\n",
              "      <td>1.0</td>\n",
              "      <td>2.0</td>\n",
              "    </tr>\n",
              "    <tr>\n",
              "      <th>22</th>\n",
              "      <td>[Cafe, Manteiga]</td>\n",
              "      <td>[nan, Pao]</td>\n",
              "      <td>0.3</td>\n",
              "      <td>1.0</td>\n",
              "      <td>2.0</td>\n",
              "    </tr>\n",
              "    <tr>\n",
              "      <th>21</th>\n",
              "      <td>[Cafe]</td>\n",
              "      <td>[Manteiga, nan, Pao]</td>\n",
              "      <td>0.3</td>\n",
              "      <td>1.0</td>\n",
              "      <td>2.5</td>\n",
              "    </tr>\n",
              "    <tr>\n",
              "      <th>15</th>\n",
              "      <td>[Cafe, nan]</td>\n",
              "      <td>[Pao]</td>\n",
              "      <td>0.3</td>\n",
              "      <td>1.0</td>\n",
              "      <td>2.0</td>\n",
              "    </tr>\n",
              "    <tr>\n",
              "      <th>14</th>\n",
              "      <td>[Cafe, Pao]</td>\n",
              "      <td>[nan]</td>\n",
              "      <td>0.3</td>\n",
              "      <td>1.0</td>\n",
              "      <td>1.0</td>\n",
              "    </tr>\n",
              "    <tr>\n",
              "      <th>26</th>\n",
              "      <td>[Cafe, nan, Manteiga]</td>\n",
              "      <td>[Pao]</td>\n",
              "      <td>0.3</td>\n",
              "      <td>1.0</td>\n",
              "      <td>2.0</td>\n",
              "    </tr>\n",
              "    <tr>\n",
              "      <th>12</th>\n",
              "      <td>[Cafe, nan]</td>\n",
              "      <td>[Manteiga]</td>\n",
              "      <td>0.3</td>\n",
              "      <td>1.0</td>\n",
              "      <td>2.0</td>\n",
              "    </tr>\n",
              "    <tr>\n",
              "      <th>11</th>\n",
              "      <td>[Cafe, Manteiga]</td>\n",
              "      <td>[nan]</td>\n",
              "      <td>0.3</td>\n",
              "      <td>1.0</td>\n",
              "      <td>1.0</td>\n",
              "    </tr>\n",
              "    <tr>\n",
              "      <th>13</th>\n",
              "      <td>[Cafe]</td>\n",
              "      <td>[nan, Pao]</td>\n",
              "      <td>0.3</td>\n",
              "      <td>1.0</td>\n",
              "      <td>2.0</td>\n",
              "    </tr>\n",
              "    <tr>\n",
              "      <th>9</th>\n",
              "      <td>[Cafe, Pao]</td>\n",
              "      <td>[Manteiga]</td>\n",
              "      <td>0.3</td>\n",
              "      <td>1.0</td>\n",
              "      <td>2.0</td>\n",
              "    </tr>\n",
              "    <tr>\n",
              "      <th>8</th>\n",
              "      <td>[Cafe, Manteiga]</td>\n",
              "      <td>[Pao]</td>\n",
              "      <td>0.3</td>\n",
              "      <td>1.0</td>\n",
              "      <td>2.0</td>\n",
              "    </tr>\n",
              "    <tr>\n",
              "      <th>7</th>\n",
              "      <td>[Cafe]</td>\n",
              "      <td>[Manteiga, Pao]</td>\n",
              "      <td>0.3</td>\n",
              "      <td>1.0</td>\n",
              "      <td>2.5</td>\n",
              "    </tr>\n",
              "    <tr>\n",
              "      <th>2</th>\n",
              "      <td>[Cafe]</td>\n",
              "      <td>[nan]</td>\n",
              "      <td>0.3</td>\n",
              "      <td>1.0</td>\n",
              "      <td>1.0</td>\n",
              "    </tr>\n",
              "    <tr>\n",
              "      <th>1</th>\n",
              "      <td>[Cafe]</td>\n",
              "      <td>[Pao]</td>\n",
              "      <td>0.3</td>\n",
              "      <td>1.0</td>\n",
              "      <td>2.0</td>\n",
              "    </tr>\n",
              "    <tr>\n",
              "      <th>10</th>\n",
              "      <td>[Cafe]</td>\n",
              "      <td>[Manteiga, nan]</td>\n",
              "      <td>0.3</td>\n",
              "      <td>1.0</td>\n",
              "      <td>2.0</td>\n",
              "    </tr>\n",
              "    <tr>\n",
              "      <th>27</th>\n",
              "      <td>[Cafe, nan, Pao]</td>\n",
              "      <td>[Manteiga]</td>\n",
              "      <td>0.3</td>\n",
              "      <td>1.0</td>\n",
              "      <td>2.0</td>\n",
              "    </tr>\n",
              "    <tr>\n",
              "      <th>16</th>\n",
              "      <td>[Manteiga]</td>\n",
              "      <td>[nan, Pao]</td>\n",
              "      <td>0.4</td>\n",
              "      <td>0.8</td>\n",
              "      <td>1.6</td>\n",
              "    </tr>\n",
              "    <tr>\n",
              "      <th>17</th>\n",
              "      <td>[Pao]</td>\n",
              "      <td>[Manteiga, nan]</td>\n",
              "      <td>0.4</td>\n",
              "      <td>0.8</td>\n",
              "      <td>1.6</td>\n",
              "    </tr>\n",
              "    <tr>\n",
              "      <th>18</th>\n",
              "      <td>[Manteiga, Pao]</td>\n",
              "      <td>[nan]</td>\n",
              "      <td>0.4</td>\n",
              "      <td>1.0</td>\n",
              "      <td>1.0</td>\n",
              "    </tr>\n",
              "    <tr>\n",
              "      <th>19</th>\n",
              "      <td>[Manteiga, nan]</td>\n",
              "      <td>[Pao]</td>\n",
              "      <td>0.4</td>\n",
              "      <td>0.8</td>\n",
              "      <td>1.6</td>\n",
              "    </tr>\n",
              "    <tr>\n",
              "      <th>20</th>\n",
              "      <td>[nan, Pao]</td>\n",
              "      <td>[Manteiga]</td>\n",
              "      <td>0.4</td>\n",
              "      <td>0.8</td>\n",
              "      <td>1.6</td>\n",
              "    </tr>\n",
              "    <tr>\n",
              "      <th>4</th>\n",
              "      <td>[Pao]</td>\n",
              "      <td>[Manteiga]</td>\n",
              "      <td>0.4</td>\n",
              "      <td>0.8</td>\n",
              "      <td>1.6</td>\n",
              "    </tr>\n",
              "    <tr>\n",
              "      <th>3</th>\n",
              "      <td>[Manteiga]</td>\n",
              "      <td>[Pao]</td>\n",
              "      <td>0.4</td>\n",
              "      <td>0.8</td>\n",
              "      <td>1.6</td>\n",
              "    </tr>\n",
              "    <tr>\n",
              "      <th>6</th>\n",
              "      <td>[Pao]</td>\n",
              "      <td>[nan]</td>\n",
              "      <td>0.5</td>\n",
              "      <td>1.0</td>\n",
              "      <td>1.0</td>\n",
              "    </tr>\n",
              "    <tr>\n",
              "      <th>5</th>\n",
              "      <td>[Manteiga]</td>\n",
              "      <td>[nan]</td>\n",
              "      <td>0.5</td>\n",
              "      <td>1.0</td>\n",
              "      <td>1.0</td>\n",
              "    </tr>\n",
              "  </tbody>\n",
              "</table>\n",
              "</div>"
            ],
            "text/plain": [
              "              Antecedente           Consequente  suporte  Confiança  Lift\n",
              "0                  [Cafe]            [Manteiga]      0.3        1.0   2.0\n",
              "25  [Cafe, Pao, Manteiga]                 [nan]      0.3        1.0   1.0\n",
              "24            [Cafe, nan]       [Manteiga, Pao]      0.3        1.0   2.5\n",
              "23            [Cafe, Pao]       [Manteiga, nan]      0.3        1.0   2.0\n",
              "22       [Cafe, Manteiga]            [nan, Pao]      0.3        1.0   2.0\n",
              "21                 [Cafe]  [Manteiga, nan, Pao]      0.3        1.0   2.5\n",
              "15            [Cafe, nan]                 [Pao]      0.3        1.0   2.0\n",
              "14            [Cafe, Pao]                 [nan]      0.3        1.0   1.0\n",
              "26  [Cafe, nan, Manteiga]                 [Pao]      0.3        1.0   2.0\n",
              "12            [Cafe, nan]            [Manteiga]      0.3        1.0   2.0\n",
              "11       [Cafe, Manteiga]                 [nan]      0.3        1.0   1.0\n",
              "13                 [Cafe]            [nan, Pao]      0.3        1.0   2.0\n",
              "9             [Cafe, Pao]            [Manteiga]      0.3        1.0   2.0\n",
              "8        [Cafe, Manteiga]                 [Pao]      0.3        1.0   2.0\n",
              "7                  [Cafe]       [Manteiga, Pao]      0.3        1.0   2.5\n",
              "2                  [Cafe]                 [nan]      0.3        1.0   1.0\n",
              "1                  [Cafe]                 [Pao]      0.3        1.0   2.0\n",
              "10                 [Cafe]       [Manteiga, nan]      0.3        1.0   2.0\n",
              "27       [Cafe, nan, Pao]            [Manteiga]      0.3        1.0   2.0\n",
              "16             [Manteiga]            [nan, Pao]      0.4        0.8   1.6\n",
              "17                  [Pao]       [Manteiga, nan]      0.4        0.8   1.6\n",
              "18        [Manteiga, Pao]                 [nan]      0.4        1.0   1.0\n",
              "19        [Manteiga, nan]                 [Pao]      0.4        0.8   1.6\n",
              "20             [nan, Pao]            [Manteiga]      0.4        0.8   1.6\n",
              "4                   [Pao]            [Manteiga]      0.4        0.8   1.6\n",
              "3              [Manteiga]                 [Pao]      0.4        0.8   1.6\n",
              "6                   [Pao]                 [nan]      0.5        1.0   1.0\n",
              "5              [Manteiga]                 [nan]      0.5        1.0   1.0"
            ]
          },
          "execution_count": 85,
          "metadata": {},
          "output_type": "execute_result"
        }
      ],
      "source": [
        "RegrasFinais.sort_values(by='suporte', ascending =True)"
      ]
    }
  ],
  "metadata": {
    "colab": {
      "provenance": []
    },
    "kernelspec": {
      "display_name": "Python 3",
      "name": "python3"
    },
    "language_info": {
      "codemirror_mode": {
        "name": "ipython",
        "version": 3
      },
      "file_extension": ".py",
      "mimetype": "text/x-python",
      "name": "python",
      "nbconvert_exporter": "python",
      "pygments_lexer": "ipython3",
      "version": "3.11.2"
    }
  },
  "nbformat": 4,
  "nbformat_minor": 0
}
